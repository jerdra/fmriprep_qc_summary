{
 "cells": [
  {
   "cell_type": "code",
   "execution_count": 1,
   "metadata": {},
   "outputs": [],
   "source": [
    "import os\n",
    "import bids"
   ]
  },
  {
   "cell_type": "code",
   "execution_count": 2,
   "metadata": {},
   "outputs": [],
   "source": [
    "fmriprep_dir = '/archive/data/SPINS/pipelines/bids_apps/fmriprep'\n",
    "output = '/projects/jjeyachandra/fmriprep_qc_summary/output'"
   ]
  },
  {
   "cell_type": "code",
   "execution_count": 3,
   "metadata": {},
   "outputs": [
    {
     "name": "stderr",
     "output_type": "stream",
     "text": [
      "/mnt/tigrlab/projects/jjeyachandra/fmriprep_qc_summary/fmriprep_qc/lib/python3.6/site-packages/bids/layout/layout.py:571: UserWarning: Derivative indexing was requested, but no valid datasets were found in the specified locations (['/archive/data/SPINS/pipelines/bids_apps/fmriprep/derivatives']). Note that all BIDS-Derivatives datasets must meet all the requirements for BIDS-Raw datasets (a common problem is to fail to include a dataset_description.json file in derivatives datasets).\n",
      "  \"datasets).\".format(paths))\n"
     ]
    }
   ],
   "source": [
    "layout = bids.BIDSLayout(fmriprep_dir,derivatives=True,validate=False)"
   ]
  },
  {
   "cell_type": "code",
   "execution_count": 4,
   "metadata": {},
   "outputs": [
    {
     "data": {
      "text/plain": [
       "'/archive/data/SPINS/pipelines/bids_apps/fmriprep'"
      ]
     },
     "execution_count": 4,
     "metadata": {},
     "output_type": "execute_result"
    }
   ],
   "source": [
    "layout.root"
   ]
  },
  {
   "cell_type": "code",
   "execution_count": 5,
   "metadata": {},
   "outputs": [],
   "source": [
    "#Get tasks and subjects\n",
    "tasks = layout.get_tasks()\n",
    "subjects = layout.get_subjects()"
   ]
  },
  {
   "cell_type": "code",
   "execution_count": 10,
   "metadata": {},
   "outputs": [],
   "source": [
    "#Build a CSV to indicate columns in participants.tsv\n",
    "task_run_dict = {}\n",
    "for t in tasks:\n",
    "    #For each task, get all scans unique without subject name\n",
    "    task_files = layout.get(task=t,extension='nii.gz',space='T1w', suffix='bold')    \n",
    "    \n",
    "    break"
   ]
  },
  {
   "cell_type": "code",
   "execution_count": 34,
   "metadata": {},
   "outputs": [],
   "source": [
    "f = layout.get(extension='nii.gz', space='T1w', suffix='bold')\n",
    "a = [x for x in layout.get(extension='nii.gz',suffix='T1w') if x.filename.split('_')[2] == 'T1w.nii.gz']\n",
    "f = list(set(['_'.join(x.filename.strip('.nii.gz').split('_')[1:]) for x in f]))\n",
    "a = set(['_'.join(x.filename.strip('.nii.gz').split('_')[1:]) for x in a])"
   ]
  },
  {
   "cell_type": "code",
   "execution_count": 35,
   "metadata": {},
   "outputs": [],
   "source": [
    "i = ignore_fields[0]\n",
    "e = f[0]"
   ]
  },
  {
   "cell_type": "code",
   "execution_count": 38,
   "metadata": {},
   "outputs": [],
   "source": [
    "import re"
   ]
  },
  {
   "cell_type": "code",
   "execution_count": 59,
   "metadata": {},
   "outputs": [],
   "source": [
    "pattern = re.compile(r\"{}-.*?(?=_)\".format(i))"
   ]
  },
  {
   "cell_type": "code",
   "execution_count": 62,
   "metadata": {},
   "outputs": [],
   "source": [
    "new_list = []\n",
    "for k in f:\n",
    "    \n",
    "    try:\n",
    "        match = pattern.findall(k)[0]\n",
    "    except IndexError:\n",
    "        new_list.append(k)\n",
    "    \n",
    "    new_list.append( k.replace('_{}'.format(match),''))"
   ]
  },
  {
   "cell_type": "code",
   "execution_count": 64,
   "metadata": {},
   "outputs": [
    {
     "data": {
      "text/plain": [
       "{'ses-01_task-emp_run-01_space-T1w_desc-preproc_bold',\n",
       " 'ses-01_task-emp_run-02_space-T1w_desc-preproc_bold',\n",
       " 'ses-01_task-emp_run-03_space-T1w_desc-preproc_bold',\n",
       " 'ses-01_task-emp_run-1_space-T1w_desc-preproc_bold',\n",
       " 'ses-01_task-emp_run-2_space-T1w_desc-preproc_bold',\n",
       " 'ses-01_task-emp_run-3_space-T1w_desc-preproc_bold',\n",
       " 'ses-01_task-emp_space-T1w_desc-preproc_bold',\n",
       " 'ses-01_task-imi_run-01_space-T1w_desc-preproc_bold',\n",
       " 'ses-01_task-imi_space-T1w_desc-preproc_bold',\n",
       " 'ses-01_task-obs_run-01_space-T1w_desc-preproc_bold',\n",
       " 'ses-01_task-obs_space-T1w_desc-preproc_bold',\n",
       " 'ses-01_task-rest_run-01_space-T1w_desc-preproc_bold',\n",
       " 'ses-01_task-rest_space-T1w_desc-preproc_bold',\n",
       " 'ses-02_task-emp_run-01_space-T1w_desc-preproc_bold',\n",
       " 'ses-02_task-emp_run-02_space-T1w_desc-preproc_bold',\n",
       " 'ses-02_task-emp_run-1_space-T1w_desc-preproc_bold',\n",
       " 'ses-02_task-emp_run-2_space-T1w_desc-preproc_bold',\n",
       " 'ses-02_task-emp_run-3_space-T1w_desc-preproc_bold',\n",
       " 'ses-02_task-imi_run-01_space-T1w_desc-preproc_bold',\n",
       " 'ses-02_task-imi_space-T1w_desc-preproc_bold',\n",
       " 'ses-02_task-obs_run-01_space-T1w_desc-preproc_bold',\n",
       " 'ses-02_task-obs_space-T1w_desc-preproc_bold',\n",
       " 'ses-02_task-rest_run-01_space-T1w_desc-preproc_bold',\n",
       " 'ses-02_task-rest_space-T1w_desc-preproc_bold'}"
      ]
     },
     "execution_count": 64,
     "metadata": {},
     "output_type": "execute_result"
    }
   ],
   "source": [
    "set(new_list)"
   ]
  },
  {
   "cell_type": "code",
   "execution_count": null,
   "metadata": {},
   "outputs": [],
   "source": [
    "#Loop through subjects, and get their seg_brainmask + t1_2_mni\n",
    "brainmask_html = []\n",
    "t12mni_html = []\n",
    "missing_figs = []\n",
    "missing_brainmask = []\n",
    "missing_t12mni = []\n",
    "for s in subjects:\n",
    "    \n",
    "    #Get figure directory and svgs\n",
    "    figdir = os.path.join(fmriprep_dir,'sub-' + s,'figures')\n",
    "    try:\n",
    "        svgs = os.listdir(figdir)\n",
    "    except FileNotFoundError:\n",
    "        missing_figs.append(s)\n",
    "        continue\n",
    "    \n",
    "    #Get brainmask and t12mni\n",
    "    try:\n",
    "        brainmask = [f for f in svgs if '_seg_brainmask' in f][0]\n",
    "    except IndexError:\n",
    "        missing_brainmask.append(s)\n",
    "        continue\n",
    "    brainmask = os.path.join(figdir,brainmask)\n",
    "\n",
    "    try:\n",
    "        t12mni = [f for f in svgs if 't1_2_mni' in f][0]\n",
    "    except IndexError:\n",
    "        missing_t12mni.append(s)\n",
    "        continue\n",
    "        \n",
    "    t12mni = os.path.join(figdir,t12mni)\n",
    "    \n",
    "    brainmask_html += ['<tr><td>' + s + '</td></tr>']\n",
    "    brainmask_html += ['<tr><td><object type=\"image/svg+xml\" data=\"{}\"></object>'.format(brainmask) + '</td></tr>' ]\n",
    "    t12mni_html += ['<tr><td>' + s + '</td></tr>']\n",
    "    t12mni_html += ['<tr><td><object type=\"image/svg+xml\" data=\"{}\"></object>'.format(brainmask) + '</td></tr>' ]"
   ]
  },
  {
   "cell_type": "code",
   "execution_count": null,
   "metadata": {},
   "outputs": [],
   "source": [
    "with open('../output/brainmask.html','w') as f:\n",
    "    f.writelines(brainmask_html)\n",
    "    \n",
    "with open('../output/t12mni.html','w') as f:\n",
    "    f.writelines(t12mni_html)"
   ]
  },
  {
   "cell_type": "code",
   "execution_count": null,
   "metadata": {},
   "outputs": [],
   "source": [
    "def get_svg(sub,ses,task,run,figtype,flist):\n",
    "    \n",
    "    for f in flist:\n",
    "        #Remove extension\n",
    "        splitted = f.split('.')[0].split('_')\n",
    "        \n",
    "        #All checks\n",
    "        sub_in = ('sub-'+str(sub)) in splitted\n",
    "        ses_in = ('ses-'+str(ses)) in splitted\n",
    "        task_in = ('task-'+str(task)) in splitted\n",
    "        \n",
    "        if run:\n",
    "            run_in = (('run-'+str(run)) in splitted) or (('run-0'+str(run)) in splitted)\n",
    "        else:\n",
    "            run_in = True\n",
    "            \n",
    "        figtype_in = figtype in splitted\n",
    "        \n",
    "        if sub_in and ses_in and task_in and run_in and figtype_in:\n",
    "            return f"
   ]
  },
  {
   "cell_type": "code",
   "execution_count": null,
   "metadata": {},
   "outputs": [],
   "source": [
    "os.path.basename(pages_dir)"
   ]
  },
  {
   "cell_type": "code",
   "execution_count": null,
   "metadata": {},
   "outputs": [],
   "source": [
    "def make_html(tuplist,output_dir,group):\n",
    "    html = []\n",
    "    counter = 0\n",
    "    page_ind = 0\n",
    "    pages = []\n",
    "    \n",
    "    #Make pages directory for modality\n",
    "    pages_dir = os.path.join(output_dir,group,'pages')\n",
    "    try:\n",
    "        os.makedirs(pages_dir,exist_ok=True)\n",
    "    except OSError:\n",
    "        pass\n",
    "\n",
    "    #Chunk into 20\n",
    "    for s,f in tuplist:\n",
    "        \n",
    "        if counter == 20:\n",
    "            \n",
    "            #Add next page item to previous?\n",
    "            \n",
    "            page = os.path.join(pages_dir,'{}.html'.format(page_ind))\n",
    "            with open(page,'w') as p:\n",
    "                p.writelines(html)\n",
    "            html = []\n",
    "            pages.append('{}.html'.format(page_ind))\n",
    "            page_ind += 1\n",
    "            counter = 0 \n",
    "                \n",
    "        \n",
    "        html += ['<tr><td>' + s + '</td></tr>']\n",
    "        html += ['<tr><td><object type=\"image/svg+xml\" data=\"{}\"></object>'.format(f) + '</td></tr>' ]\n",
    "        counter+=1\n",
    "        \n",
    "    \n",
    "    #Make an html page index\n",
    "    index_html = []\n",
    "    for i,p in enumerate(pages):\n",
    "        index_html += ['<tr><td> <a href=\"./pages/{}\">Page {}</a> </td></tr>'.format(p,i)]\n",
    "        \n",
    "    index_path = os.path.join(output_dir,group,'index.html')\n",
    "    with open(index_path,'w') as f:\n",
    "        f.writelines(index_html)\n",
    "        "
   ]
  },
  {
   "cell_type": "code",
   "execution_count": null,
   "metadata": {},
   "outputs": [],
   "source": [
    "#Now loop through tasks\n",
    "for t in tasks:\n",
    "    epi2t1 = []\n",
    "    sdc = []\n",
    "    rois = []\n",
    "    \n",
    "    missing_e2t = []\n",
    "    missing_sdc = []\n",
    "    missing_roi = []\n",
    "    #For each task, get a list of each task SVG... \n",
    "    files = layout.get(task=t, suffix='bold',\n",
    "                      space='T1w', extension='nii.gz')\n",
    "    \n",
    "    #For each file, put together pointer to SVG directory and get task files\n",
    "    for f in files:\n",
    "        sub = f.entities['subject']\n",
    "        ses = f.entities['session']\n",
    "        try:\n",
    "            run = f.entities['run']\n",
    "        except:\n",
    "            run = False\n",
    "        \n",
    "        figdir = os.path.join(fmriprep_dir,'sub-' + sub,'figures')\n",
    "        svgs = os.listdir(figdir)\n",
    "        \n",
    "        epi2t1_svg = get_svg(sub,ses,t,run,'bbregister',svgs) or get_svg(sub,ses,t,run,'coreg',svgs)\n",
    "        if epi2t1_svg:\n",
    "            epi2t1.append( (f.filename,os.path.join(figdir,epi2t1_svg)) )\n",
    "        else:\n",
    "            missing_e2t.append(f)\n",
    "        \n",
    "        sdc_svg = get_svg(sub,ses,t,run,'sdc',svgs)\n",
    "        if sdc_svg:\n",
    "            sdc.append((f.filename,os.path.join(figdir,sdc_svg)))\n",
    "        else:\n",
    "            missing_sdc.append(f)\n",
    "        \n",
    "        rois_svg = get_svg(sub,ses,t,run,'rois',svgs)\n",
    "        if rois_svg:\n",
    "            rois.append((f.filename,os.path.join(figdir,rois_svg)))  \n",
    "        else:\n",
    "            missing_roi.append(f)\n",
    "        \n",
    "    make_html(epi2t1,output,'{}_epi2t1'.format(t))\n",
    "    make_html(sdc,output,'{}_sdc'.format(t))\n",
    "    make_html(rois,output,'{}_rois'.format(t))"
   ]
  },
  {
   "cell_type": "code",
   "execution_count": null,
   "metadata": {},
   "outputs": [],
   "source": [
    "#Try building an html template just using this\n",
    "brainmask_html = []\n",
    "t1_2_epi_html = [] \n",
    "sdc_html = []\n",
    "\n",
    "for s in sub_dir:\n",
    "    \n",
    "    #Get figures directory\n",
    "    subfig = os.path.join(sub_dir,'figures')\n",
    "    \n",
    "    #Get brainmask fig\n",
    "    mask_svg = [f for f in os.listdir(subfig) if 'brainmask' in f]\n",
    "    t12epi_svg = [f for f in os.listdir(subfig) if 'bbregister' in f]]\n",
    "    sdc_svg = [f for f in os.listdir()]\n",
    "    \n",
    "    #Start new row\n",
    "    html += ['<tr>']\n",
    "    \n",
    "    #Add subject ID\n",
    "    html += ['<td>' + f + '</td>']\n",
    "    \n",
    "    #Add image\n",
    "    img_path = os.path.relpath(os.path.join(subfig,f))\n",
    "    html += ['<td> <object type=\"image/svg+xml\" data=\"{}\"></object>'.format(img_path) + '</td>']\n",
    "    \n",
    "    html += ['</tr>']"
   ]
  },
  {
   "cell_type": "code",
   "execution_count": null,
   "metadata": {},
   "outputs": [],
   "source": [
    "with open('../output/test.html','w') as f:\n",
    "    f.writelines(html)"
   ]
  }
 ],
 "metadata": {
  "kernelspec": {
   "display_name": "Python 3",
   "language": "python",
   "name": "python3"
  },
  "language_info": {
   "codemirror_mode": {
    "name": "ipython",
    "version": 3
   },
   "file_extension": ".py",
   "mimetype": "text/x-python",
   "name": "python",
   "nbconvert_exporter": "python",
   "pygments_lexer": "ipython3",
   "version": "3.6.3"
  }
 },
 "nbformat": 4,
 "nbformat_minor": 2
}
