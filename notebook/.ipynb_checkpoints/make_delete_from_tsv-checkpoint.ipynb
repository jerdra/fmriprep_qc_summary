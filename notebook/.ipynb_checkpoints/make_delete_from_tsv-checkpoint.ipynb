{
 "cells": [
  {
   "cell_type": "code",
   "execution_count": 1,
   "metadata": {},
   "outputs": [],
   "source": [
    "import pandas as pd\n",
    "import os\n",
    "from bids import BIDSLayout"
   ]
  },
  {
   "cell_type": "code",
   "execution_count": 29,
   "metadata": {},
   "outputs": [],
   "source": [
    "fmriprep = '/archive/data/SPINS/pipelines/bids_apps/fmriprep'\n",
    "ptsv = '/archive/data/SPINS/pipelines/bids_apps/fmriprep/participants.tsv'"
   ]
  },
  {
   "cell_type": "code",
   "execution_count": 7,
   "metadata": {},
   "outputs": [],
   "source": [
    "df = pd.read_csv(ptsv,delimiter='\\t')"
   ]
  },
  {
   "cell_type": "code",
   "execution_count": 27,
   "metadata": {},
   "outputs": [
    {
     "data": {
      "text/html": [
       "<div>\n",
       "<style scoped>\n",
       "    .dataframe tbody tr th:only-of-type {\n",
       "        vertical-align: middle;\n",
       "    }\n",
       "\n",
       "    .dataframe tbody tr th {\n",
       "        vertical-align: top;\n",
       "    }\n",
       "\n",
       "    .dataframe thead th {\n",
       "        text-align: right;\n",
       "    }\n",
       "</style>\n",
       "<table border=\"1\" class=\"dataframe\">\n",
       "  <thead>\n",
       "    <tr style=\"text-align: right;\">\n",
       "      <th></th>\n",
       "      <th>subject</th>\n",
       "      <th>desc-preproc_T1w</th>\n",
       "      <th>ses-01_task-emp_run-1</th>\n",
       "      <th>ses-01_task-emp_run-2</th>\n",
       "      <th>ses-01_task-emp_run-3</th>\n",
       "      <th>ses-01_task-imi_run-1</th>\n",
       "      <th>ses-01_task-obs_run-1</th>\n",
       "      <th>ses-01_task-rest_run-1</th>\n",
       "    </tr>\n",
       "  </thead>\n",
       "  <tbody>\n",
       "    <tr>\n",
       "      <td>0</td>\n",
       "      <td>sub-CMP0172</td>\n",
       "      <td>NaN</td>\n",
       "      <td>wm segmentation</td>\n",
       "      <td>NaN</td>\n",
       "      <td>wm segmentation</td>\n",
       "      <td>wm segmentation</td>\n",
       "      <td>NaN</td>\n",
       "      <td>NaN</td>\n",
       "    </tr>\n",
       "    <tr>\n",
       "      <td>1</td>\n",
       "      <td>sub-CMP0175</td>\n",
       "      <td>skullstrip</td>\n",
       "      <td>removed</td>\n",
       "      <td>removed</td>\n",
       "      <td>removed</td>\n",
       "      <td>removed</td>\n",
       "      <td>removed</td>\n",
       "      <td>removed</td>\n",
       "    </tr>\n",
       "    <tr>\n",
       "      <td>2</td>\n",
       "      <td>sub-CMP0179</td>\n",
       "      <td>skullstrip</td>\n",
       "      <td>removed</td>\n",
       "      <td>removed</td>\n",
       "      <td>removed</td>\n",
       "      <td>removed</td>\n",
       "      <td>removed</td>\n",
       "      <td>removed</td>\n",
       "    </tr>\n",
       "    <tr>\n",
       "      <td>3</td>\n",
       "      <td>sub-CMP0183</td>\n",
       "      <td>NaN</td>\n",
       "      <td>wm segmentation</td>\n",
       "      <td>wm segmentation</td>\n",
       "      <td>wm segmentation</td>\n",
       "      <td>wm segmentation</td>\n",
       "      <td>wm segmentation</td>\n",
       "      <td>NaN</td>\n",
       "    </tr>\n",
       "    <tr>\n",
       "      <td>4</td>\n",
       "      <td>sub-CMP0187</td>\n",
       "      <td>NaN</td>\n",
       "      <td>epi-to-t1</td>\n",
       "      <td>NaN</td>\n",
       "      <td>NaN</td>\n",
       "      <td>NaN</td>\n",
       "      <td>NaN</td>\n",
       "      <td>NaN</td>\n",
       "    </tr>\n",
       "  </tbody>\n",
       "</table>\n",
       "</div>"
      ],
      "text/plain": [
       "       subject desc-preproc_T1w ses-01_task-emp_run-1 ses-01_task-emp_run-2  \\\n",
       "0  sub-CMP0172              NaN       wm segmentation                   NaN   \n",
       "1  sub-CMP0175       skullstrip               removed               removed   \n",
       "2  sub-CMP0179       skullstrip               removed               removed   \n",
       "3  sub-CMP0183              NaN       wm segmentation       wm segmentation   \n",
       "4  sub-CMP0187              NaN             epi-to-t1                   NaN   \n",
       "\n",
       "  ses-01_task-emp_run-3 ses-01_task-imi_run-1 ses-01_task-obs_run-1  \\\n",
       "0       wm segmentation       wm segmentation                   NaN   \n",
       "1               removed               removed               removed   \n",
       "2               removed               removed               removed   \n",
       "3       wm segmentation       wm segmentation       wm segmentation   \n",
       "4                   NaN                   NaN                   NaN   \n",
       "\n",
       "  ses-01_task-rest_run-1  \n",
       "0                    NaN  \n",
       "1                removed  \n",
       "2                removed  \n",
       "3                    NaN  \n",
       "4                    NaN  "
      ]
     },
     "execution_count": 27,
     "metadata": {},
     "output_type": "execute_result"
    }
   ],
   "source": [
    "df.head()"
   ]
  },
  {
   "cell_type": "code",
   "execution_count": 28,
   "metadata": {},
   "outputs": [],
   "source": [
    "def listfiles(folder):\n",
    "    for root, folders, files in os.walk(folder):\n",
    "        for filename in folders + files:\n",
    "            yield os.path.join(root, filename)"
   ]
  },
  {
   "cell_type": "code",
   "execution_count": 34,
   "metadata": {},
   "outputs": [],
   "source": [
    "def listnifti(folder):\n",
    "    for root,folders,files in os.walk(folder):\n",
    "        for filename in folders + files:\n",
    "            if '.nii.gz' in filename:\n",
    "                yield os.path.join(root,filename)"
   ]
  },
  {
   "cell_type": "code",
   "execution_count": 68,
   "metadata": {
    "scrolled": false
   },
   "outputs": [],
   "source": [
    "# For each subject, walk their directory and check if any combo exists then make delete list\n",
    "for ind,r in df.iterrows():\n",
    "    \n",
    "    subject = r['subject']\n",
    "    descs = r.keys()\n",
    "    \n",
    "    #Step 1: Get file list\n",
    "    sub_dir = os.path.join(fmriprep,subject)\n",
    "    \n",
    "    #Step 2: For each column, find the files in the subject's directories that are to be deleted\n",
    "    for d in [x for x in descs if not pd.isna(r[x])]:\n",
    "        matchers = d.split('_')\n",
    "        candidates = [f for f in listnifti(sub_dir) if \n",
    "                      all([True if k in f else False for k in matchers])]\n",
    "        \n",
    "    break"
   ]
  },
  {
   "cell_type": "code",
   "execution_count": 74,
   "metadata": {},
   "outputs": [],
   "source": [
    "m = [x for x in descs if not pd.isna(r[x])]"
   ]
  },
  {
   "cell_type": "code",
   "execution_count": 92,
   "metadata": {},
   "outputs": [
    {
     "data": {
      "text/plain": [
       "'ses-01_task-imi_run-1'"
      ]
     },
     "execution_count": 92,
     "metadata": {},
     "output_type": "execute_result"
    }
   ],
   "source": [
    "test = m[3]\n",
    "test"
   ]
  },
  {
   "cell_type": "code",
   "execution_count": 93,
   "metadata": {},
   "outputs": [
    {
     "data": {
      "text/plain": [
       "['ses-01', 'task-imi', 'run-1']"
      ]
     },
     "execution_count": 93,
     "metadata": {},
     "output_type": "execute_result"
    }
   ],
   "source": [
    "matchers = test.split('_')\n",
    "matchers"
   ]
  },
  {
   "cell_type": "code",
   "execution_count": 94,
   "metadata": {},
   "outputs": [],
   "source": [
    "allnifti = [f for f in listnifti(sub_dir)]\n",
    "nii = allnifti[-1]"
   ]
  },
  {
   "cell_type": "code",
   "execution_count": 95,
   "metadata": {},
   "outputs": [
    {
     "data": {
      "text/plain": [
       "'/archive/data/SPINS/pipelines/bids_apps/fmriprep/sub-CMP0172/ses-01/func/sub-CMP0172_ses-01_task-imi_space-MNI152NLin2009cAsym_desc-brain_mask.nii.gz'"
      ]
     },
     "execution_count": 95,
     "metadata": {},
     "output_type": "execute_result"
    }
   ],
   "source": [
    "nii"
   ]
  }
 ],
 "metadata": {
  "kernelspec": {
   "display_name": "Python 3",
   "language": "python",
   "name": "python3"
  },
  "language_info": {
   "codemirror_mode": {
    "name": "ipython",
    "version": 3
   },
   "file_extension": ".py",
   "mimetype": "text/x-python",
   "name": "python",
   "nbconvert_exporter": "python",
   "pygments_lexer": "ipython3",
   "version": "3.6.3"
  }
 },
 "nbformat": 4,
 "nbformat_minor": 2
}
